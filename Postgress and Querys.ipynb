{
 "cells": [
  {
   "cell_type": "markdown",
   "id": "ee7ccc92",
   "metadata": {},
   "source": [
    "#  PostgreSQL"
   ]
  },
  {
   "cell_type": "code",
   "execution_count": null,
   "id": "c9258749",
   "metadata": {},
   "outputs": [],
   "source": [
    "sudo apt update\n",
    "sudo apt install postgresql postgresql-contrib\n",
    "sudo service postgresql start\n",
    "psql -U postgres\n"
   ]
  },
  {
   "cell_type": "code",
   "execution_count": null,
   "id": "8315434b",
   "metadata": {},
   "outputs": [],
   "source": [
    "CREATE DATABASE mydatabase;\n"
   ]
  },
  {
   "cell_type": "code",
   "execution_count": null,
   "id": "d9ac5358",
   "metadata": {},
   "outputs": [],
   "source": [
    "CREATE USER myuser WITH PASSWORD 'mypassword';\n",
    "GRANT ALL PRIVILEGES ON DATABASE mydatabase TO myuser;\n"
   ]
  },
  {
   "cell_type": "code",
   "execution_count": null,
   "id": "90568262",
   "metadata": {},
   "outputs": [],
   "source": [
    "pip install psycopg2-binary\n"
   ]
  },
  {
   "cell_type": "code",
   "execution_count": null,
   "id": "77c68d78",
   "metadata": {},
   "outputs": [],
   "source": [
    "DATABASES = {\n",
    "    'default': {\n",
    "        'ENGINE': 'django.db.backends.postgresql',\n",
    "        'NAME': 'mydatabase',\n",
    "        'USER': 'myuser',\n",
    "        'PASSWORD': 'mypassword',\n",
    "        'HOST': 'localhost',\n",
    "        'PORT': '5432',\n",
    "    }\n",
    "}\n"
   ]
  },
  {
   "cell_type": "code",
   "execution_count": null,
   "id": "d15e0967",
   "metadata": {},
   "outputs": [],
   "source": [
    "Create and Migrate Django Models;\n",
    "python manage.py makemigrations\n",
    "python manage.py migrate\n"
   ]
  },
  {
   "cell_type": "markdown",
   "id": "5dcc6f00",
   "metadata": {},
   "source": [
    "# Backup and Restore PostgreSQL"
   ]
  },
  {
   "cell_type": "code",
   "execution_count": null,
   "id": "1e692443",
   "metadata": {},
   "outputs": [],
   "source": [
    "\"\"\"Backup PostgreSQL Database: To create a backup of your database\"\"\"\n",
    "pg_dump -U myuser mydatabase > mydatabase_backup.sql\n",
    "\n",
    "\"\"\"Restore PostgreSQL Database: To restore a backup to a new or existing database\"\"\"\n",
    "psql -U myuser mydatabase < mydatabase_backup.sql\n",
    "\n"
   ]
  },
  {
   "cell_type": "markdown",
   "id": "7ab2aa14",
   "metadata": {},
   "source": [
    "# Perform Maintenance Tasks"
   ]
  },
  {
   "cell_type": "code",
   "execution_count": null,
   "id": "07e55021",
   "metadata": {},
   "outputs": [],
   "source": [
    "\"\"\"\n",
    "Optimize Your Database:\n",
    "Regularly run maintenance tasks like VACUUM to optimize your database\n",
    "\"\"\"\n",
    "VACUUM FULL;\n",
    "\n",
    "\"\"\"\n",
    "Check for Long Queries:\n",
    "Use PostgreSQL’s tools to monitor and analyze long-running queries\n",
    "\"\"\"\n",
    "SELECT * FROM pg_stat_activity WHERE state = 'active';\n"
   ]
  },
  {
   "cell_type": "markdown",
   "id": "a677d269",
   "metadata": {},
   "source": [
    "# How to have better Query: "
   ]
  },
  {
   "cell_type": "markdown",
   "id": "320f2a97",
   "metadata": {},
   "source": [
    "Where to Write Queries Summary:\n",
    "\n",
    "In Views (views.py) for data fetching and processing for your web pages.\n",
    "\n",
    "In Django Shell to test and experiment with queries.\n",
    "\n",
    "In Custom Management Commands for scripts and scheduled tasks.\n",
    "\n",
    "In Admin (admin.py) to customize data display in the Django admin interface.\n",
    "\n",
    "In Tests (tests.py) to write queries and check correctness in your automated tests."
   ]
  },
  {
   "cell_type": "markdown",
   "id": "bd2adc69",
   "metadata": {},
   "source": [
    "# select_related and prefetch_related"
   ]
  },
  {
   "cell_type": "markdown",
   "id": "bd5e065e",
   "metadata": {},
   "source": [
    "Avoid N+1 Queries with select_related and prefetch_related:\n",
    "For foreign key and many-to-many relationships, Django can reduce the number of queries using these methods."
   ]
  },
  {
   "cell_type": "code",
   "execution_count": null,
   "id": "38bc02c2",
   "metadata": {},
   "outputs": [],
   "source": [
    "\"\"\"\n",
    "select_related():\n",
    "Use for foreign key relationships. \n",
    "It performs a SQL join and fetches related objects in a single query.\n",
    "\"\"\"\n",
    "\n",
    "# Fetch posts along with their authors in one query\n",
    "Post.objects.select_related('author')\n",
    "\n",
    "\n",
    "\"\"\"\n",
    "prefetch_related(): \n",
    "Use for many-to-many relationships or reverse foreign key lookups.\n",
    "It performs separate queries and joins in Python\n",
    "\"\"\"\n",
    "# Prefetch related tags for each post\n",
    "Post.objects.prefetch_related('tags')\n"
   ]
  },
  {
   "cell_type": "markdown",
   "id": "db6b900d",
   "metadata": {},
   "source": [
    "# Using Aggregations and Annotations"
   ]
  },
  {
   "cell_type": "markdown",
   "id": "926fbc9b",
   "metadata": {},
   "source": [
    "Django ORM supports database-level aggregations, which can help optimize operations like counting, summing, averaging, etc."
   ]
  },
  {
   "cell_type": "code",
   "execution_count": null,
   "id": "5acee950",
   "metadata": {},
   "outputs": [],
   "source": [
    "from django.db.models import Count, Avg\n",
    "\n",
    "# Count the number of posts\n",
    "Post.objects.aggregate(total_posts=Count('id'))\n",
    "\n",
    "# Calculate average post length\n",
    "Post.objects.aggregate(average_length=Avg('content__length'))\n",
    "\n",
    "#Aggregation Example: \n",
    "\n",
    "from django.db.models import Count, Avg\n",
    "\n",
    "# Count the number of posts\n",
    "Post.objects.aggregate(total_posts=Count('id'))\n",
    "\n",
    "# Calculate average post length\n",
    "Post.objects.aggregate(average_length=Avg('content__length'))\n",
    "\n",
    "\n",
    "#Annotation Example:\n",
    "\n",
    "# Annotate posts with their comment counts\n",
    "Post.objects.annotate(comment_count=Count('comments'))\n"
   ]
  },
  {
   "cell_type": "markdown",
   "id": "9e0c9397",
   "metadata": {},
   "source": [
    "# Using PostgreSQL-Specific Features\n"
   ]
  },
  {
   "cell_type": "code",
   "execution_count": null,
   "id": "d9c932b3",
   "metadata": {},
   "outputs": [],
   "source": [
    "\"\"\"\n",
    "ArrayField:\n",
    "Django provides ArrayField to store lists of values (e.g., a list of tags\n",
    "\"\"\"\n",
    "from django.contrib.postgres.fields import ArrayField\n",
    "\n",
    "class Post(models.Model):\n",
    "    tags = ArrayField(models.CharField(max_length=100))\n",
    "\n",
    "\"\"\"\n",
    "Full-Text Search:\n",
    "You can perform full-text searches using PostgreSQL's full-text search functionality.\n",
    "\"\"\"\n",
    "from django.contrib.postgres.search import SearchVector, SearchQuery, SearchRank\n",
    "\n",
    "# Perform a full-text search on the 'title' and 'content' fields\n",
    "Post.objects.annotate(search=SearchVector('title', 'content')).filter(search=SearchQuery('Django'))\n",
    "\n",
    "\"\"\"\n",
    "JSONField:\n",
    "Store and query JSON data directly in the database using JSONField.\n",
    "\"\"\"\n",
    "from django.contrib.postgres.fields import JSONField\n",
    "\n",
    "class Data(models.Model):\n",
    "    json_data = JSONField()\n",
    "\n",
    "# Querying JSON field\n",
    "Data.objects.filter(json_data__name='John')\n",
    "\n"
   ]
  },
  {
   "cell_type": "markdown",
   "id": "ce848427",
   "metadata": {},
   "source": [
    "# Cashing : "
   ]
  },
  {
   "cell_type": "code",
   "execution_count": null,
   "id": "cf614f15",
   "metadata": {},
   "outputs": [],
   "source": [
    "from django.core.cache import cache\n",
    "\n",
    "# Set a value in the cache\n",
    "cache.set('my_key', Post.objects.all(), timeout=60*15)\n",
    "\n",
    "# Get a value from the cache\n",
    "posts = cache.get('my_key')"
   ]
  },
  {
   "cell_type": "code",
   "execution_count": null,
   "id": "29abe207",
   "metadata": {},
   "outputs": [],
   "source": [
    "\"\"\"\n",
    "If you only want to check the existence of records,\n",
    "use exists() instead of count() to improve performance.\n",
    "\"\"\"\n",
    "# Checking if any post exists\n",
    "if Post.objects.filter(author=user).exists():\n",
    "    print(\"User has posts\")\n",
    "\n",
    "\"\"\"\n",
    "Use the distinct() method to avoid fetching duplicate records.\n",
    "\"\"\"\n",
    "Post.objects.distinct('author')\n"
   ]
  },
  {
   "cell_type": "markdown",
   "id": "080cd62d",
   "metadata": {},
   "source": [
    "# Raw SQL for Complex Queries"
   ]
  },
  {
   "cell_type": "code",
   "execution_count": null,
   "id": "dc1bee8b",
   "metadata": {},
   "outputs": [],
   "source": [
    "Post.objects.raw('SELECT * FROM myapp_post WHERE content LIKE %s', ['%Django%'])\n"
   ]
  }
 ],
 "metadata": {
  "kernelspec": {
   "display_name": "Python 3 (ipykernel)",
   "language": "python",
   "name": "python3"
  },
  "language_info": {
   "codemirror_mode": {
    "name": "ipython",
    "version": 3
   },
   "file_extension": ".py",
   "mimetype": "text/x-python",
   "name": "python",
   "nbconvert_exporter": "python",
   "pygments_lexer": "ipython3",
   "version": "3.9.13"
  }
 },
 "nbformat": 4,
 "nbformat_minor": 5
}
