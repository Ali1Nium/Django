{
 "cells": [
  {
   "cell_type": "markdown",
   "metadata": {},
   "source": [
    "# Installing Rest_Api : "
   ]
  },
  {
   "cell_type": "markdown",
   "metadata": {},
   "source": [
    "pip install djangorestframework\n",
    "\n",
    "pip install markdown       # Markdown support for the browsable API\n",
    "\n",
    "pip install django-filter  # Filtering support\n"
   ]
  },
  {
   "cell_type": "markdown",
   "metadata": {},
   "source": [
    "Views in Django_rest_framework are like normal Django_Views but for View we inherit from APIVIEW and we return response from Django_framework ==>Response .! "
   ]
  },
  {
   "cell_type": "code",
   "execution_count": null,
   "metadata": {},
   "outputs": [],
   "source": [
    "# Add 'rest_framework' to your INSTALLED_APPS setting.\n",
    "\n",
    "INSTALLED_APPS = [\n",
    "    ...\n",
    "    'rest_framework',\n",
    "]"
   ]
  },
  {
   "cell_type": "markdown",
   "metadata": {},
   "source": [
    "View : "
   ]
  },
  {
   "cell_type": "code",
   "execution_count": null,
   "metadata": {},
   "outputs": [],
   "source": [
    "from rest_framework.response import Response\n",
    "from rest_framework.views import APIView\n",
    "\n",
    "class students1(APIView):\n",
    "\n",
    "    def get(self,request,*args, **kwargs):\n",
    "        names = Students.objects.all().values(\"name\")\n",
    "        return Response(names)"
   ]
  },
  {
   "cell_type": "markdown",
   "metadata": {},
   "source": [
    "URLs:"
   ]
  },
  {
   "cell_type": "code",
   "execution_count": null,
   "metadata": {},
   "outputs": [],
   "source": [
    "urlspatterns  [\n",
    "    path(\"students/\",students1.as_view(),name=\"name_list\")\n",
    "]"
   ]
  },
  {
   "cell_type": "markdown",
   "metadata": {},
   "source": [
    "# Getting 1 valeu cod: "
   ]
  },
  {
   "cell_type": "markdown",
   "metadata": {},
   "source": [
    "View:"
   ]
  },
  {
   "cell_type": "code",
   "execution_count": null,
   "metadata": {},
   "outputs": [],
   "source": [
    "class StudentNameAPI(APIView):\n",
    "    def get(self,request,pk,*args,**kwargs):\n",
    "        tag = get_object_or_404( {class_name}, **{\"pk\":pk})\n",
    "        return Response({\n",
    "            \"id\":{class_name}.id, \n",
    "            \"name\":{class_name}.name,\n",
    "            \"kurses\":{class_name}.curses.count()\n",
    "        },status=stats.HTTP_200_OK)\n"
   ]
  },
  {
   "cell_type": "markdown",
   "metadata": {},
   "source": [
    "# Serialization: "
   ]
  },
  {
   "cell_type": "markdown",
   "metadata": {},
   "source": [
    "# Serialization: "
   ]
  },
  {
   "cell_type": "markdown",
   "metadata": {},
   "source": [
    "Reading data from DB and reformation it to Jsohn .! "
   ]
  },
  {
   "cell_type": "markdown",
   "metadata": {},
   "source": [
    "We add a New File ==> serializer.py \n",
    "then make a  class with {class_name+serializer} and inherit from serializer.Serializer . \n"
   ]
  },
  {
   "cell_type": "code",
   "execution_count": null,
   "metadata": {},
   "outputs": [],
   "source": [
    "#In Serializer File : \n",
    "\n",
    "from rest_framework import serializers \n",
    "\n",
    "\n",
    "class Studentserializer(serializers.Serializer):\n",
    "    name = serializers.CharField()\n",
    "    #We add here , all that we want to show in View ! \n",
    "    \n",
    "\n",
    "#In View : \n",
    "from rest_framework import status\n",
    "\n",
    "class students1(APIView):\n",
    "\n",
    "    def get(self,request,*args, **kwargs):\n",
    "\n",
    "        names = {Class_name}.objects.all()\n",
    "\n",
    "        serializer = Studentserializer(names, many= True)\n",
    "\n",
    "        return Response(serializer.data , status=status.HTTP_200_OK)\n",
    "    \n",
    "\n"
   ]
  },
  {
   "cell_type": "markdown",
   "metadata": {},
   "source": [
    "# Model Serializer : "
   ]
  },
  {
   "cell_type": "markdown",
   "metadata": {},
   "source": [
    "In ModelSerializer we give 2 Argumments : { model = modle that we want to Serialize ,  fields = fileds that we want to serialize ! }"
   ]
  },
  {
   "cell_type": "code",
   "execution_count": null,
   "metadata": {},
   "outputs": [],
   "source": [
    "class StudentListSerializer(serializers.ModelSerializer):\n",
    "    \n",
    "\n",
    "    class Meta:\n",
    "        model = Students\n",
    "        fields = (\"name\" , \"studen_title\", \"attibute_type\")"
   ]
  },
  {
   "cell_type": "markdown",
   "metadata": {},
   "source": [
    "# Authntication: "
   ]
  },
  {
   "cell_type": "markdown",
   "metadata": {},
   "source": [
    "https://django-rest-framework-simplejwt.readthedocs.io/en/latest/getting_started.html "
   ]
  },
  {
   "cell_type": "markdown",
   "metadata": {},
   "source": []
  },
  {
   "cell_type": "code",
   "execution_count": null,
   "metadata": {},
   "outputs": [],
   "source": [
    "#View ==> class !\n",
    "permission_classes = (Isauthenticated, )"
   ]
  },
  {
   "cell_type": "markdown",
   "metadata": {},
   "source": [
    "# Permissions: "
   ]
  },
  {
   "cell_type": "markdown",
   "metadata": {},
   "source": [
    "we make a new python file with name Permission and we add our permissions in permission_classes =[] .\n",
    "\n",
    "def has_permissions():\n",
    "\n",
    "def Has_object_permissions() ."
   ]
  },
  {
   "cell_type": "markdown",
   "metadata": {},
   "source": [
    "# ViewSets: "
   ]
  },
  {
   "cell_type": "markdown",
   "metadata": {},
   "source": [
    "#ModelViewSet: \n",
    "\n",
    "The most commonly used ViewSet.\n",
    "\n",
    "It provides all CRUD (Create, Read, Update, Delete) operations out of the box for a Django model.\n",
    "\n",
    "This is often used when you want a fully functional API for a model with minimal code."
   ]
  },
  {
   "cell_type": "code",
   "execution_count": null,
   "metadata": {},
   "outputs": [],
   "source": [
    "from rest_framework import viewsets\n",
    "from .models import MyModel\n",
    "from .serializers import MyModelSerializer\n",
    "\n",
    "class MyModelViewSet(viewsets.ModelViewSet):\n",
    "    queryset = MyModel.objects.all()\n",
    "    serializer_class = MyModelSerializer\n"
   ]
  },
  {
   "cell_type": "markdown",
   "metadata": {},
   "source": [
    "ReadOnlyModelViewSet:\n",
    "\n",
    "Provides only the GET (list and retrieve) methods for read-only operations.\n",
    "\n",
    "This is useful when you want to expose data but don’t need to allow modifications.\n",
    "\n"
   ]
  },
  {
   "cell_type": "code",
   "execution_count": null,
   "metadata": {},
   "outputs": [],
   "source": [
    "from rest_framework import viewsets\n",
    "from .models import MyModel\n",
    "from .serializers import MyModelSerializer\n",
    "\n",
    "class MyModelReadOnlyViewSet(viewsets.ReadOnlyModelViewSet):\n",
    "    queryset = MyModel.objects.all()\n",
    "    serializer_class = MyModelSerializer\n"
   ]
  },
  {
   "cell_type": "markdown",
   "metadata": {},
   "source": [
    "#GenericViewSet:\n",
    "\n",
    "Provides more granular control over which methods (actions) to expose.\n",
    "\n",
    "It’s commonly used when you need custom behavior that doesn’t fit into the CRUD pattern.\n"
   ]
  },
  {
   "cell_type": "code",
   "execution_count": null,
   "metadata": {},
   "outputs": [],
   "source": [
    "from rest_framework import viewsets, mixins\n",
    "\n",
    "class MyCustomViewSet(mixins.ListModelMixin, mixins.CreateModelMixin, viewsets.GenericViewSet):\n",
    "    queryset = MyModel.objects.all()\n",
    "    serializer_class = MyModelSerializer\n"
   ]
  },
  {
   "cell_type": "markdown",
   "metadata": {},
   "source": [
    "Applications of ViewSets in Django REST Framework:\n",
    "\n",
    "Reduce Redundancy: Instead of writing separate views for listing, retrieving, creating, updating, and deleting resources, you can define them in a single ViewSet class.\n",
    "\n",
    "\n",
    "Easy Routing: When you use a ViewSet, you can automatically create the URL routing for multiple actions (like list, create, etc.) using Django REST Framework's router feature. It significantly simplifies your code."
   ]
  },
  {
   "cell_type": "code",
   "execution_count": null,
   "metadata": {},
   "outputs": [],
   "source": [
    "from rest_framework.routers import DefaultRouter\n",
    "from .views import MyModelViewSet\n",
    "\n",
    "router = DefaultRouter()\n",
    "router.register(r'mymodel', MyModelViewSet)\n"
   ]
  },
  {
   "cell_type": "markdown",
   "metadata": {},
   "source": [
    "Custom Actions: You can define custom actions using @action decorators. For example, if you want an endpoint for a specific function (like an action to toggle some status), you can do this in a ViewSet:"
   ]
  },
  {
   "cell_type": "code",
   "execution_count": null,
   "metadata": {},
   "outputs": [],
   "source": [
    "from rest_framework.decorators import action\n",
    "from rest_framework.response import Response\n",
    "\n",
    "class MyModelViewSet(viewsets.ModelViewSet):\n",
    "    @action(detail=True, methods=['post'])\n",
    "    def toggle_status(self, request, pk=None):\n",
    "        my_model = self.get_object()\n",
    "        my_model.status = not my_model.status\n",
    "        my_model.save()\n",
    "        return Response({'status': 'status updated'})\n"
   ]
  },
  {
   "cell_type": "markdown",
   "metadata": {},
   "source": [
    "Summary of ViewSets and Applications\n",
    "\n",
    "ModelViewSet: Full CRUD actions (create, retrieve, update, delete).\n",
    "\n",
    "ReadOnlyModelViewSet: Only read actions (list, retrieve).\n",
    "\n",
    "GenericViewSet: Provides flexibility to implement only specific actions (list, create, etc.).\n",
    "\n",
    "Custom actions: Allows adding non-standard actions with custom URLs."
   ]
  },
  {
   "cell_type": "code",
   "execution_count": null,
   "metadata": {},
   "outputs": [],
   "source": []
  }
 ],
 "metadata": {
  "language_info": {
   "name": "python"
  }
 },
 "nbformat": 4,
 "nbformat_minor": 2
}
