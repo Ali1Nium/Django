{
 "cells": [
  {
   "cell_type": "markdown",
   "id": "5c606796",
   "metadata": {},
   "source": [
    "# Making App : "
   ]
  },
  {
   "cell_type": "markdown",
   "id": "df33487c",
   "metadata": {},
   "source": [
    "1) django-admin startproject {project_name}"
   ]
  },
  {
   "cell_type": "markdown",
   "id": "011626b9",
   "metadata": {},
   "source": [
    "2) python manage.py startapp {app_name}"
   ]
  },
  {
   "cell_type": "markdown",
   "id": "646d704d",
   "metadata": {},
   "source": [
    "#  Models in Django"
   ]
  },
  {
   "cell_type": "markdown",
   "id": "b775bf6c",
   "metadata": {},
   "source": [
    "Django models define the structure of the database."
   ]
  },
  {
   "cell_type": "code",
   "execution_count": null,
   "id": "128639a1",
   "metadata": {},
   "outputs": [],
   "source": [
    "from django.db import models\n",
    "\n",
    "class Post(models.Model):\n",
    "    title = models.CharField(max_length=200)\n",
    "    content = models.TextField()\n",
    "    created_at = models.DateTimeField(auto_now_add=True)\n",
    "\n",
    "    def __str__(self):\n",
    "        return self.title\n",
    "    \n",
    "CharField()\n",
    "TextField()\n",
    "DateTimeField()\n",
    "PositiveBigIntegerField()\n",
    "BigIntegerField\n",
    "ForeignKey()"
   ]
  },
  {
   "cell_type": "markdown",
   "id": "a9962866",
   "metadata": {},
   "source": [
    "# Running Migrations:"
   ]
  },
  {
   "cell_type": "markdown",
   "id": "fac3c632",
   "metadata": {},
   "source": [
    "python manage.py makemigrations\n",
    "python manage.py migrate"
   ]
  },
  {
   "cell_type": "markdown",
   "id": "020ac4f1",
   "metadata": {},
   "source": [
    "# Django Admin Panel and registering Model:"
   ]
  },
  {
   "cell_type": "markdown",
   "id": "0de9c462",
   "metadata": {},
   "source": [
    "The Django admin panel allows for easy management of database objects."
   ]
  },
  {
   "cell_type": "code",
   "execution_count": null,
   "id": "2966cdd1",
   "metadata": {},
   "outputs": [],
   "source": [
    "from django.contrib import admin\n",
    "from .models import Post\n",
    "\n",
    "class ProductAdmin(admin.ModelAdmin):\n",
    "    \"\"\"\n",
    "    we can make some Forms for views of Data :\n",
    "    \n",
    "    list_display = []\n",
    "    list_filter = []\n",
    "    search_fields = []\n",
    "    list_select_related = False\n",
    "    list_per_page = 100 \n",
    "    list_max_show_all = 200 \n",
    "    list_editable = ()\n",
    "    date_hierarchy = None\n",
    "    save_as = False\n",
    "    save_as_continue = True\n",
    "    save_on_top = False\n",
    "    preserve_filters = True\n",
    "    inlines = []\n",
    "    \n",
    "    \"\"\"\n",
    "admin.site.register(Post)"
   ]
  },
  {
   "cell_type": "markdown",
   "id": "c9ccf2ff",
   "metadata": {},
   "source": [
    "# Views and URL Routing"
   ]
  },
  {
   "cell_type": "code",
   "execution_count": null,
   "id": "8bbb9514",
   "metadata": {},
   "outputs": [],
   "source": [
    "#View : \n",
    "from django.shortcuts import render\n",
    "\n",
    "def home_view(request):\n",
    "    return render(request, 'home.html')\n",
    "\n",
    "#URL:\n",
    "\"\"\" In urls.py of the app: \"\"\"\n",
    "from django.urls import path\n",
    "from .views import home_view\n",
    "\n",
    "urlpatterns = [\n",
    "    path('', home_view, name='home'),\n",
    "    #re_path(r\"checking/(?P<name_of_value>[A-Za-z0-9]{len_of_value})/\",home_view),\n",
    "]\n",
    "\n",
    "\"\"\" In the project's urls.py: \"\"\"\n",
    "\n",
    "from django.contrib import admin\n",
    "from django.urls import include, path\n",
    "\n",
    "urlpatterns = [\n",
    "    path('admin/', admin.site.urls),\n",
    "    path('', include('{app_name}.urls')),\n",
    "]\n",
    "\n"
   ]
  },
  {
   "cell_type": "markdown",
   "id": "09053902",
   "metadata": {},
   "source": [
    "# Decorators  for View : "
   ]
  },
  {
   "cell_type": "code",
   "execution_count": null,
   "id": "5f8196b4",
   "metadata": {},
   "outputs": [],
   "source": [
    "\"\"\"\n",
    "1. @login_required:\n",
    " This decorator ensures that a view can only be accessed by authenticated users.\n",
    " If the user is not logged in, they are redirected to the login page.\n",
    "\"\"\"\n",
    "from django.contrib.auth.decorators import login_required\n",
    "\n",
    "@login_required(login_url='/custom-login/')\n",
    "def my_view(request):\n",
    "    # View code here\n",
    "\n",
    "\n",
    "\"\"\" \n",
    "@permission_required:\n",
    " This decorator checks if the user has the specific permission(s) required to access the view.\n",
    " If not, they are redirected to the login page or shown a 403 Forbidden page.\n",
    "\"\"\"\n",
    "from django.contrib.auth.decorators import permission_required\n",
    "\n",
    "@permission_required(['app_label.permission1', 'app_label.permission2'])\n",
    "def my_view(request):\n",
    "    # View code here\n",
    "\n",
    "\"\"\"\n",
    "@user_passes_test:\n",
    " This decorator allows you to define a custom test that the user must pass to access the view. \n",
    " For example, you could ensure that only staff members can access certain views.\n",
    "\"\"\"\n",
    "from django.contrib.auth.decorators import user_passes_test\n",
    "\n",
    "@user_passes_test({custom-test}, login_url='/no-access/')\n",
    "def my_view(request):\n",
    "    # View code here\n",
    "\n",
    "\"\"\"\n",
    "@require_http_methods:\n",
    " This decorator ensures that a view only allows certain HTTP methods\n",
    " (GET, POST, etc.).\n",
    "\"\"\"\n",
    "from django.views.decorators.http import require_http_methods\n",
    "\n",
    "#@require_GET\n",
    "#@require_POST\n",
    "@require_http_methods([\"GET\", \"POST\"])\n",
    "def my_view(request):\n",
    "    # View code here\n",
    "    \n",
    "\n",
    "\"\"\"\n",
    "@csrf_exempt\n",
    " This decorator disables Cross-Site Request Forgery (CSRF) protection for the decorated view.\n",
    " Use with caution, as this makes your view vulnerable to CSRF attacks.\n",
    "\"\"\"\n",
    "from django.views.decorators.csrf import csrf_exempt\n",
    "\n",
    "@csrf_exempt\n",
    "def my_view(request):\n",
    "    # View code here\n",
    "\n",
    "\"\"\"\n",
    "@csrf_protect: \n",
    " This decorator ensures that CSRF protection is enabled for the view.\n",
    " CSRF protection is enabled by default,\n",
    " but you can use this to enforce it in specific views.\n",
    "\"\"\"\n",
    "from django.views.decorators.csrf import csrf_protect\n",
    "\n",
    "@csrf_protect\n",
    "def my_view(request):\n",
    "    # View code here\n",
    "\n",
    "\"\"\"\n",
    "@cache_page\n",
    " This decorator caches the response of a view for a specified amount of time,\n",
    " which can improve performance by reducing database queries and computations.\n",
    " \"\"\"\n",
    "from django.views.decorators.cache import cache_page\n",
    "\n",
    "@cache_page(60 * 15)  # Cache for 15 minutes\n",
    "def my_view(request):\n",
    "    # View code here\n",
    "\n",
    "\"\"\"\n",
    "@vary_on_headers\n",
    "This decorator sets the \"Vary\" header for caching purposes.\n",
    "It ensures the cache varies based on specific request headers\n",
    "(e.g., User-Agent, Accept-Language).\n",
    "\"\"\"\n",
    "from django.views.decorators.vary import vary_on_headers\n",
    "\n",
    "@vary_on_headers('User-Agent')\n",
    "def my_view(request):\n",
    "    # View code here\n",
    "\n",
    "\"\"\"\n",
    " @vary_on_cookie\n",
    " This decorator ensures that the cache varies depending on cookies,\n",
    " which is useful when user-specific data is stored in cookies.\n",
    " \"\"\"\n",
    "\n",
    "from django.views.decorators.vary import vary_on_cookie\n",
    "\n",
    "@vary_on_cookie\n",
    "def my_view(request):\n",
    "    # View code here\n",
    "\n",
    "\"\"\"\n",
    "@never_cache:\n",
    "This decorator ensures that the view's response is never cached,\n",
    "regardless of any other caching headers or settings.\n",
    "\"\"\"\n",
    "from django.views.decorators.cache import never_cache\n",
    "\n",
    "@never_cache\n",
    "def my_view(request):\n",
    "    # View code here\n",
    "    \n",
    "\"\"\"\n",
    "@sensitive_post_parameters:\n",
    " This decorator marks certain POST parameters as sensitive,\n",
    " which means they won’t be included in error reports or logging.\n",
    "\"\"\"\n",
    "from django.views.decorators.debug import sensitive_post_parameters\n",
    "\n",
    "@sensitive_post_parameters('password', 'credit_card_number')\n",
    "def my_view(request):\n",
    "    # View code here\n",
    "\n",
    "\"\"\"\n",
    "@sensitive_variables:\n",
    " This decorator hides sensitive variables\n",
    " (like passwords) from appearing in error reports.\n",
    "\"\"\"\n",
    "from django.views.decorators.debug import sensitive_variables\n",
    "\n",
    "@sensitive_variables('password')\n",
    "def my_view(request):\n",
    "    password = request.POST['password']\n",
    "    # View code here\n",
    "    \n",
    "\n",
    "\"\"\"\n",
    "@xframe_options_deny::\n",
    "This decorator prevents the view from being rendered inside a frame or iframe,\n",
    "which can help mitigate clickjacking attacks.\n",
    "\"\"\"\n",
    "from django.views.decorators.clickjacking import xframe_options_deny\n",
    "\n",
    "@xframe_options_deny\n",
    "def my_view(request):\n",
    "    # View code here\n",
    "\n",
    "\"\"\"\n",
    "@xframe_options_exempt\n",
    " This decorator allows the view to be rendered inside a frame,\n",
    " overriding the default DENY X-Frame-Options header.\n",
    " \"\"\"\n",
    "from django.views.decorators.clickjacking import xframe_options_exempt\n",
    "\n",
    "@xframe_options_exempt\n",
    "def my_view(request):\n",
    "    # View code here\n"
   ]
  },
  {
   "cell_type": "markdown",
   "id": "018d9aff",
   "metadata": {},
   "source": [
    "# Forms in Django"
   ]
  },
  {
   "cell_type": "code",
   "execution_count": null,
   "id": "ca518b11",
   "metadata": {},
   "outputs": [],
   "source": [
    "#Forms:\n",
    "from django import forms\n",
    "\n",
    "class ContactForm(forms.Form):\n",
    "    name = forms.CharField(max_length=100)\n",
    "    email = forms.EmailField()\n",
    "    message = forms.CharField(widget=forms.Textarea)\n",
    "\n",
    "    \n",
    "#In the view (views.py):\n",
    "\n",
    "from django.shortcuts import render\n",
    "from .forms import ContactForm\n",
    "\n",
    "def contact_view(request):\n",
    "    form = ContactForm()\n",
    "    return render(request, 'contact.html', {'form': form})\n"
   ]
  },
  {
   "cell_type": "markdown",
   "id": "1c907d97",
   "metadata": {},
   "source": [
    "# Django Authentication"
   ]
  },
  {
   "cell_type": "code",
   "execution_count": null,
   "id": "1d5d8557",
   "metadata": {},
   "outputs": [],
   "source": [
    "from django.contrib.auth import authenticate, login\n",
    "from django.shortcuts import render, redirect\n",
    "\n",
    "def login_view(request):\n",
    "    if request.method == 'POST':\n",
    "        username = request.POST['username']\n",
    "        password = request.POST['password']\n",
    "        user = authenticate(request, username=username, password=password)\n",
    "        if user is not None:\n",
    "            login(request, user)\n",
    "            return redirect('home')\n",
    "    return render(request, 'login.html')\n"
   ]
  },
  {
   "cell_type": "markdown",
   "id": "12c388eb",
   "metadata": {},
   "source": [
    "# Django Middleware"
   ]
  },
  {
   "cell_type": "markdown",
   "id": "b4d8a933",
   "metadata": {},
   "source": [
    "Middleware in Django is a way to process requests globally before they reach the view."
   ]
  },
  {
   "cell_type": "code",
   "execution_count": null,
   "id": "4b0961fb",
   "metadata": {},
   "outputs": [],
   "source": [
    "class MyCustomMiddleware:\n",
    "    def __init__(self, get_response):\n",
    "        self.get_response = get_response\n",
    "\n",
    "    def __call__(self, request):\n",
    "        # Code to execute before view\n",
    "        response = self.get_response(request)\n",
    "        # Code to execute after view\n",
    "        return response\n",
    "\n",
    "\"\"\" can add middleware in settings.py: \"\"\"    \n",
    "\n",
    "MIDDLEWARE = [\n",
    "    'django.middleware.security.SecurityMiddleware',\n",
    "    'django.middleware.clickjacking.XFrameOptionsMiddleware',\n",
    "    'myapp.middleware.MyCustomMiddleware',\n",
    "]\n"
   ]
  },
  {
   "cell_type": "markdown",
   "id": "1758d1d7",
   "metadata": {},
   "source": [
    "# Django Rest Framework (DRF)"
   ]
  },
  {
   "cell_type": "markdown",
   "id": "06c949d0",
   "metadata": {},
   "source": [
    "pip install djangorestframework"
   ]
  },
  {
   "cell_type": "code",
   "execution_count": null,
   "id": "f884a892",
   "metadata": {},
   "outputs": [],
   "source": [
    "#Example Serializer:\n",
    "\n",
    "from rest_framework import serializers\n",
    "from .models import Post\n",
    "\n",
    "class PostSerializer(serializers.ModelSerializer):\n",
    "    class Meta:\n",
    "        model = Post\n",
    "        fields = ['id', 'title', 'content', 'created_at']\n",
    "\n",
    "#API View:       \n",
    "        \n",
    "from rest_framework.response import Response\n",
    "from rest_framework.decorators import api_view\n",
    "from .models import Post\n",
    "from .serializers import PostSerializer\n",
    "\n",
    "@api_view(['GET'])\n",
    "def post_list(request):\n",
    "    posts = Post.objects.all()\n",
    "    serializer = PostSerializer(posts, many=True)\n",
    "    return Response(serializer.data)\n",
    "\n",
    "#URL for API:\n",
    "\n",
    "from django.urls import path\n",
    "from .views import post_list\n",
    "\n",
    "urlpatterns = [\n",
    "    path('api/posts/', post_list, name='post_list'),\n",
    "]\n"
   ]
  },
  {
   "cell_type": "code",
   "execution_count": null,
   "id": "78d54e10",
   "metadata": {},
   "outputs": [],
   "source": []
  },
  {
   "cell_type": "code",
   "execution_count": null,
   "id": "428ccaac",
   "metadata": {},
   "outputs": [],
   "source": []
  }
 ],
 "metadata": {
  "kernelspec": {
   "display_name": "Python 3 (ipykernel)",
   "language": "python",
   "name": "python3"
  },
  "language_info": {
   "codemirror_mode": {
    "name": "ipython",
    "version": 3
   },
   "file_extension": ".py",
   "mimetype": "text/x-python",
   "name": "python",
   "nbconvert_exporter": "python",
   "pygments_lexer": "ipython3",
   "version": "3.9.13"
  }
 },
 "nbformat": 4,
 "nbformat_minor": 5
}
