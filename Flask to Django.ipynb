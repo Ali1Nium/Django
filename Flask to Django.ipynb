{
 "cells": [
  {
   "cell_type": "code",
   "execution_count": null,
   "id": "15848013",
   "metadata": {},
   "outputs": [],
   "source": [
    "\"\"\"\n",
    "Set Up the Project Settings: In the settings.py file of your project:\n",
    "\n",
    "Add your newly created app (myapp) to INSTALLED_APPS.\n",
    "Configure your database settings. Since you're using PostgreSQL, update the DATABASES section:\n",
    "\"\"\"\n",
    "DATABASES = {\n",
    "    'default': {\n",
    "        'ENGINE': 'django.db.backends.postgresql',\n",
    "        'NAME': 'your_database_name',\n",
    "        'USER': 'your_database_user',\n",
    "        'PASSWORD': 'your_password',\n",
    "        'HOST': 'localhost',\n",
    "        'PORT': '5432',\n",
    "    }\n",
    "}\n"
   ]
  },
  {
   "cell_type": "code",
   "execution_count": null,
   "id": "d6d1ed78",
   "metadata": {},
   "outputs": [],
   "source": [
    "\"\"\"\n",
    "Migrate Database Models\n",
    "Convert Flask Models to Django Models: In Flask, models are typically defined using SQLAlchemy. \n",
    "You’ll need to translate these models to Django’s ORM.\n",
    "\"\"\"\n",
    "\n",
    "#Flask: \n",
    "class User(db.Model):\n",
    "    id = db.Column(db.Integer, primary_key=True)\n",
    "    username = db.Column(db.String(80), unique=True, nullable=False)\n",
    "    email = db.Column(db.String(120), unique=True, nullable=False)\n",
    "\n",
    "#Django : \n",
    "\n",
    "from django.db import models\n",
    "\n",
    "class User(models.Model):\n",
    "    username = models.CharField(max_length=80, unique=True)\n",
    "    email = models.EmailField(unique=True)\n",
    "\n",
    "\"\"\"Migrate Models: Once your models are translated, \n",
    "make migrations and apply them:\"\"\"\n",
    "\n",
    "# python manage.py makemigrations\n",
    "# python manage.py migrate\n"
   ]
  },
  {
   "cell_type": "markdown",
   "id": "fd0bc776",
   "metadata": {},
   "source": [
    "# Migrate Routes (Views)"
   ]
  },
  {
   "cell_type": "code",
   "execution_count": null,
   "id": "773cce37",
   "metadata": {},
   "outputs": [],
   "source": [
    "\"\"\"\n",
    "Convert Flask Routes to Django Views: In Flask, routes are defined using decorators like @app.route(). In Django,\n",
    "routes are defined in views.py and mapped to URLs in urls.py.\n",
    "\"\"\"\n",
    "#Flask : \n",
    "@app.route('/home')\n",
    "def home():\n",
    "    return render_template('home.html')\n",
    "\n",
    "#Django;\n",
    "from django.shortcuts import render\n",
    "\n",
    "def home(request):\n",
    "    return render(request, 'home.html')\n",
    "\n",
    "\"\"\"Map URLs in Django: In urls.py, map the view to the URL:\"\"\"\n",
    "\n",
    "from django.urls import path\n",
    "from . import views\n",
    "\n",
    "urlpatterns = [\n",
    "    path('home/', views.home, name='home'),\n",
    "]\n",
    "\n",
    "\n"
   ]
  },
  {
   "cell_type": "markdown",
   "id": "43fd3576",
   "metadata": {},
   "source": [
    "# Migrate Templates "
   ]
  },
  {
   "cell_type": "markdown",
   "id": "3fb31263",
   "metadata": {},
   "source": [
    "Move HTML Templates: In Flask, templates are stored in a templates folder. In Django, templates are also stored in a templates folder within the app directory.\n",
    "\n",
    "Copy your Flask templates into myapp/templates.\n",
    "\n",
    "Convert Flask Template Syntax to Django: Flask and Django use similar template syntax with some differences.\n",
    "\n",
    "Flask variable: {{ variable }}\n",
    "Django variable: {{ variable }}\n",
    "Some Flask extensions (like url_for()) will need to be changed to Django's equivalent:"
   ]
  },
  {
   "cell_type": "code",
   "execution_count": null,
   "id": "4ec7efd4",
   "metadata": {},
   "outputs": [],
   "source": [
    "#Flask :\n",
    "<a href=\"{{ url_for('home') }}\">Home</a>\n",
    "\n",
    "#Django : \n",
    "<a href=\"{% url 'home' %}\">Home</a>\n"
   ]
  },
  {
   "cell_type": "markdown",
   "id": "6f50bdae",
   "metadata": {},
   "source": [
    "# Migrate Static Files"
   ]
  },
  {
   "cell_type": "code",
   "execution_count": null,
   "id": "05805ad4",
   "metadata": {},
   "outputs": [],
   "source": [
    "\"\"\"\n",
    "Move Static Files: In Flask, static files are usually in a static folder. \n",
    "In Django, you should place your static files in myapp/static.\n",
    "\"\"\"\n",
    "STATIC_URL = '/static/'\n",
    "\n",
    "\"\"\"\n",
    "Load Static Files in Templates:\n",
    "In Django, you need to load static files using {% load static %} in your templates.\n",
    "\"\"\"\n",
    "{% load static %}\n",
    "<link rel=\"stylesheet\" type=\"text/css\" href=\"{% static 'css/style.css' %}\">\n",
    "\n"
   ]
  },
  {
   "cell_type": "markdown",
   "id": "9478f2a9",
   "metadata": {},
   "source": [
    "# Migrate Forms"
   ]
  },
  {
   "cell_type": "code",
   "execution_count": null,
   "id": "d8e825fa",
   "metadata": {},
   "outputs": [],
   "source": [
    "\"\"\"\n",
    "If you’re using forms in your Flask app (e.g., with Flask-WTF),\n",
    "you can migrate them to Django using Django's built-in forms system.\n",
    "\"\"\"\n",
    "#Flask; \n",
    "from flask_wtf import FlaskForm\n",
    "from wtforms import StringField, SubmitField\n",
    "\n",
    "class NameForm(FlaskForm):\n",
    "    name = StringField('Name')\n",
    "    submit = SubmitField('Submit')\n",
    "#Django:\n",
    "\n",
    "from django import forms\n",
    "\n",
    "class NameForm(forms.Form):\n",
    "    name = forms.CharField(label='Name', max_length=100)\n",
    "\n"
   ]
  },
  {
   "cell_type": "markdown",
   "id": "87c456b0",
   "metadata": {},
   "source": [
    "#  Migrate Authentication"
   ]
  },
  {
   "cell_type": "code",
   "execution_count": null,
   "id": "99696ad0",
   "metadata": {},
   "outputs": [],
   "source": [
    "\"\"\"If your Flask app has user authentication (login, registration), Django provides a robust built-in authentication system.\n",
    "\n",
    "Use Django’s Authentication System:\n",
    "\n",
    "Register, login, and logout views are available out of the box with Django.\n",
    "Update your templates to integrate Django’s authentication system:\n",
    "\"\"\"\n",
    "\n",
    "{% if user.is_authenticated %}\n",
    "    <p>Welcome, {{ user.username }}</p>\n",
    "{% else %}\n",
    "    <a href=\"{% url 'login' %}\">Login</a>\n",
    "{% endif %}\n",
    "\n",
    "\n",
    "\"\"\"Customize User Model (if needed): If you had custom user models in Flask, \n",
    "you can extend Django’s AbstractUser or AbstractBaseUser classe\n",
    "\"\"\"\n"
   ]
  },
  {
   "cell_type": "code",
   "execution_count": null,
   "id": "1e593b77",
   "metadata": {},
   "outputs": [],
   "source": []
  }
 ],
 "metadata": {
  "kernelspec": {
   "display_name": "Python 3 (ipykernel)",
   "language": "python",
   "name": "python3"
  },
  "language_info": {
   "codemirror_mode": {
    "name": "ipython",
    "version": 3
   },
   "file_extension": ".py",
   "mimetype": "text/x-python",
   "name": "python",
   "nbconvert_exporter": "python",
   "pygments_lexer": "ipython3",
   "version": "3.9.13"
  }
 },
 "nbformat": 4,
 "nbformat_minor": 5
}
